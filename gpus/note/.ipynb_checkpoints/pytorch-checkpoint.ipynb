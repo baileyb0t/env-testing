{
 "cells": [
  {
   "cell_type": "markdown",
   "metadata": {},
   "source": [
    "### Dependencies"
   ]
  },
  {
   "cell_type": "code",
   "execution_count": 25,
   "metadata": {},
   "outputs": [],
   "source": [
    "import pandas as pd\n",
    "\n",
    "# import train_test_split"
   ]
  },
  {
   "cell_type": "code",
   "execution_count": null,
   "metadata": {},
   "outputs": [],
   "source": [
    "training_csv = 'iris_training.csv'\n",
    "testing_csv = 'iris_test.csv'\n",
    "full_set_csv = 'iris_data.csv'"
   ]
  },
  {
   "cell_type": "markdown",
   "metadata": {},
   "source": [
    "### Environment info"
   ]
  },
  {
   "cell_type": "markdown",
   "metadata": {},
   "source": [
    "NVIDIA® GPU drivers —CUDA 9.0 requires 384.x or higher. \\\n",
    "CUDA® Toolkit —TensorFlow supports CUDA 9.0. \\\n",
    "CUPTI ships with the CUDA Toolkit. ]\n",
    "cuDNN SDK (>= 7.2) Note: Make sure your GPU has compute compatibility >3.0 \\\n",
    "(Optional) NCCL 2.2 for multiple GPU support. \\\n",
    "(Optional) TensorRT 4.0 to improve latency and throughput for inference on some models."
   ]
  },
  {
   "cell_type": "code",
   "execution_count": 14,
   "metadata": {},
   "outputs": [],
   "source": [
    "# Outputs should all end up in the log\n",
    "# (maybe also save/compress models used for manual/later inspection?)\n",
    "\n",
    "#import logging\n",
    "#\n",
    "#logname = '../output/tf-cuda.log'"
   ]
  },
  {
   "cell_type": "code",
   "execution_count": 15,
   "metadata": {},
   "outputs": [
    {
     "name": "stdout",
     "output_type": "stream",
     "text": [
      "01:00.0 VGA compatible controller: NVIDIA Corporation GM204 [GeForce GTX 980] (rev a1)\r\n",
      "01:00.1 Audio device: NVIDIA Corporation GM204 High Definition Audio Controller (rev a1)\r\n"
     ]
    }
   ],
   "source": [
    "! lspci | grep -i nvidia"
   ]
  },
  {
   "cell_type": "code",
   "execution_count": 16,
   "metadata": {},
   "outputs": [
    {
     "name": "stdout",
     "output_type": "stream",
     "text": [
      "01:00.0 VGA compatible controller: NVIDIA Corporation GM204 [GeForce GTX 980] (rev a1) (prog-if 00 [VGA controller])\r\n",
      "\tSubsystem: eVga.com. Corp. GM204 [GeForce GTX 980]\r\n",
      "\tPhysical Slot: 3\r\n",
      "\tFlags: bus master, fast devsel, latency 0, IRQ 44, NUMA node 0\r\n",
      "\tMemory at c5000000 (32-bit, non-prefetchable) [size=16M]\r\n",
      "\tMemory at b0000000 (64-bit, prefetchable) [size=256M]\r\n",
      "\tMemory at c0000000 (64-bit, prefetchable) [size=32M]\r\n",
      "\tI/O ports at 6000 [size=128]\r\n",
      "\tExpansion ROM at 000c0000 [disabled] [size=128K]\r\n",
      "\tCapabilities: <access denied>\r\n",
      "\tKernel driver in use: nouveau\r\n",
      "\tKernel modules: nvidiafb, nouveau, nvidia_drm, nvidia\r\n",
      "\r\n",
      "07:00.0 VGA compatible controller: ASPEED Technology, Inc. ASPEED Graphics Family (rev 30) (prog-if 00 [VGA controller])\r\n",
      "\tSubsystem: ASUSTeK Computer Inc. ASPEED Graphics Family\r\n",
      "\tFlags: medium devsel, IRQ 16, NUMA node 0\r\n",
      "\tMemory at c2000000 (32-bit, non-prefetchable) [size=32M]\r\n",
      "\tMemory at c4000000 (32-bit, non-prefetchable) [size=128K]\r\n",
      "\tI/O ports at 3000 [size=128]\r\n",
      "\tCapabilities: <access denied>\r\n",
      "\tKernel driver in use: ast\r\n",
      "\tKernel modules: ast\r\n",
      "\r\n"
     ]
    }
   ],
   "source": [
    "! lspci | grep ' VGA ' | cut -d\" \" -f 1 | xargs -i lspci -v -s {}"
   ]
  },
  {
   "cell_type": "code",
   "execution_count": 1,
   "metadata": {},
   "outputs": [
    {
     "name": "stdout",
     "output_type": "stream",
     "text": [
      "torch                     1.10.1                   pypi_0    pypi\r\n",
      "torchvision               0.11.2                   pypi_0    pypi\r\n"
     ]
    }
   ],
   "source": [
    "! conda list | fgrep -i -e torch"
   ]
  },
  {
   "cell_type": "markdown",
   "metadata": {},
   "source": [
    "### Demo with iris data\n",
    "Code sampled from: https://rubikscode.net/2021/08/02/pytorch-for-beginners-building-neural-networks/ \\\n",
    "Dataset from: https://archive.ics.uci.edu/ml/datasets/iris"
   ]
  },
  {
   "cell_type": "markdown",
   "metadata": {},
   "source": [
    "#### CPU"
   ]
  },
  {
   "cell_type": "code",
   "execution_count": null,
   "metadata": {},
   "outputs": [],
   "source": []
  },
  {
   "cell_type": "markdown",
   "metadata": {},
   "source": [
    "#### GPU"
   ]
  },
  {
   "cell_type": "code",
   "execution_count": null,
   "metadata": {},
   "outputs": [],
   "source": []
  }
 ],
 "metadata": {
  "kernelspec": {
   "display_name": "Python 3",
   "language": "python",
   "name": "python3"
  },
  "language_info": {
   "codemirror_mode": {
    "name": "ipython",
    "version": 3
   },
   "file_extension": ".py",
   "mimetype": "text/x-python",
   "name": "python",
   "nbconvert_exporter": "python",
   "pygments_lexer": "ipython3",
   "version": "3.7.3"
  }
 },
 "nbformat": 4,
 "nbformat_minor": 4
}
